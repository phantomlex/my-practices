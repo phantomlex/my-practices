{
  "nbformat": 4,
  "nbformat_minor": 0,
  "metadata": {
    "colab": {
      "provenance": []
    },
    "kernelspec": {
      "name": "python3",
      "display_name": "Python 3"
    },
    "language_info": {
      "name": "python"
    }
  },
  "cells": [
    {
      "cell_type": "code",
      "execution_count": 4,
      "metadata": {
        "id": "PxNNKQE6bdTa"
      },
      "outputs": [],
      "source": [
        "import torch\n",
        "from torch import nn as nn"
      ]
    },
    {
      "cell_type": "code",
      "source": [
        "# Create a ReLU function with PyTorch\n",
        "relu_pytorch = nn.ReLU()\n",
        "\n",
        "x_pos = torch.tensor(2.0)\n",
        "x_neg = torch.tensor(-3.0)\n",
        "\n",
        "# Apply the ReLU function to the tensors\n",
        "output_pos = relu_pytorch(x_pos)\n",
        "output_neg = relu_pytorch(x_neg)\n",
        "\n",
        "print(\"ReLU applied to positive value:\", output_pos)\n",
        "print(\"ReLU applied to negative value:\", output_neg)"
      ],
      "metadata": {
        "id": "sEk28LP-kC4-",
        "colab": {
          "base_uri": "https://localhost:8080/"
        },
        "outputId": "22a75451-c8a4-4a99-bf2d-a443abf328a5"
      },
      "execution_count": 5,
      "outputs": [
        {
          "output_type": "stream",
          "name": "stdout",
          "text": [
            "ReLU applied to positive value: tensor(2.)\n",
            "ReLU applied to negative value: tensor(0.)\n"
          ]
        }
      ]
    },
    {
      "cell_type": "code",
      "source": [
        "# Create a leaky relu function in PyTorch\n",
        "leaky_relu_pytorch = nn.LeakyReLU(negative_slope=.05)\n",
        "\n",
        "x = torch.tensor(-2.0)\n",
        "# Call the above function on the tensor x\n",
        "output = leaky_relu_pytorch(x)\n",
        "print(output)"
      ],
      "metadata": {
        "id": "Adms1v9bkVV9",
        "colab": {
          "base_uri": "https://localhost:8080/"
        },
        "outputId": "e7003b40-ad3e-469d-aa70-dc056d03f14b"
      },
      "execution_count": 6,
      "outputs": [
        {
          "output_type": "stream",
          "name": "stdout",
          "text": [
            "tensor(-0.1000)\n"
          ]
        }
      ]
    },
    {
      "cell_type": "code",
      "source": [
        "for name, param in model.named_parameters():\n",
        "\n",
        "    # Check for first layer's weight\n",
        "    if name == '0.weight':\n",
        "\n",
        "        # Freeze this weight\n",
        "        param.requires_grad = False\n",
        "    # Check for second layer's weight\n",
        "    if name == '1.weight':\n",
        "\n",
        "        # Freeze this weight\n",
        "        param.requires_grad = False"
      ],
      "metadata": {
        "id": "Rmy51Et5lHp0",
        "colab": {
          "base_uri": "https://localhost:8080/",
          "height": 211
        },
        "outputId": "bf1a6bf1-e36d-427f-f5e2-cb211851064e"
      },
      "execution_count": 7,
      "outputs": [
        {
          "output_type": "error",
          "ename": "NameError",
          "evalue": "name 'model' is not defined",
          "traceback": [
            "\u001b[0;31m---------------------------------------------------------------------------\u001b[0m",
            "\u001b[0;31mNameError\u001b[0m                                 Traceback (most recent call last)",
            "\u001b[0;32m/tmp/ipython-input-4142095248.py\u001b[0m in \u001b[0;36m<cell line: 0>\u001b[0;34m()\u001b[0m\n\u001b[0;32m----> 1\u001b[0;31m \u001b[0;32mfor\u001b[0m \u001b[0mname\u001b[0m\u001b[0;34m,\u001b[0m \u001b[0mparam\u001b[0m \u001b[0;32min\u001b[0m \u001b[0mmodel\u001b[0m\u001b[0;34m.\u001b[0m\u001b[0mnamed_parameters\u001b[0m\u001b[0;34m(\u001b[0m\u001b[0;34m)\u001b[0m\u001b[0;34m:\u001b[0m\u001b[0;34m\u001b[0m\u001b[0;34m\u001b[0m\u001b[0m\n\u001b[0m\u001b[1;32m      2\u001b[0m \u001b[0;34m\u001b[0m\u001b[0m\n\u001b[1;32m      3\u001b[0m     \u001b[0;31m# Check for first layer's weight\u001b[0m\u001b[0;34m\u001b[0m\u001b[0;34m\u001b[0m\u001b[0m\n\u001b[1;32m      4\u001b[0m     \u001b[0;32mif\u001b[0m \u001b[0mname\u001b[0m \u001b[0;34m==\u001b[0m \u001b[0;34m'0.weight'\u001b[0m\u001b[0;34m:\u001b[0m\u001b[0;34m\u001b[0m\u001b[0;34m\u001b[0m\u001b[0m\n\u001b[1;32m      5\u001b[0m \u001b[0;34m\u001b[0m\u001b[0m\n",
            "\u001b[0;31mNameError\u001b[0m: name 'model' is not defined"
          ]
        }
      ]
    },
    {
      "cell_type": "code",
      "source": [
        "layer0 = nn.Linear(16, 32)\n",
        "layer1 = nn.Linear(32, 64)\n",
        "\n",
        "# Use uniform initialization for layer0 and layer1 weights\n",
        "nn.init.uniform_(layer0.weight)\n",
        "nn.init.uniform_(layer1.weight)\n",
        "\n",
        "model = nn.Sequential(layer0, layer1)"
      ],
      "metadata": {
        "id": "-W_U1n4avpGz"
      },
      "execution_count": null,
      "outputs": []
    },
    {
      "cell_type": "code",
      "source": [
        "# Set the model to evaluation mode\n",
        "model.eval()\n",
        "validation_loss = 0.0\n",
        "\n",
        "with torch.no_grad():\n",
        "\n",
        "  for features, labels in validationloader:\n",
        "\n",
        "      outputs = model(features)\n",
        "      loss = criterion(outputs, labels)\n",
        "\n",
        "      # Sum the current loss to the validation_loss variable\n",
        "      validation_loss += loss.item()"
      ],
      "metadata": {
        "id": "XD9X3qA-v5LK"
      },
      "execution_count": null,
      "outputs": []
    },
    {
      "cell_type": "code",
      "source": [
        "# Set the model to evaluation mode\n",
        "model.eval()\n",
        "validation_loss = 0.0\n",
        "\n",
        "with torch.no_grad():\n",
        "  for features, labels in validationloader:\n",
        "      outputs = model(features)\n",
        "      loss = criterion(outputs, labels)\n",
        "      # Sum the current loss to the validation_loss variable\n",
        "      validation_loss += loss.item()\n",
        "\n",
        "# Calculate the mean loss value\n",
        "validation_loss_epoch = validation_loss / len(validationloader)\n",
        "print(validation_loss_epoch)\n",
        "\n",
        "# Set the model back to training mode\n",
        "model.train()"
      ],
      "metadata": {
        "id": "ocQkUAURx4hw"
      },
      "execution_count": null,
      "outputs": []
    },
    {
      "cell_type": "code",
      "source": [
        "# Create accuracy metric\n",
        "metric = torchmetrics.Accuracy(task=\"multiclass\", num_classes=3)\n",
        "for features, labels in dataloader:\n",
        "    outputs = model(features)\n",
        "\n",
        "    # Calculate accuracy over the batch\n",
        "    metric.update(outputs, labels.argmax(dim=-1))\n",
        "\n",
        "# Calculate accuracy over the whole epoch\n",
        "accuracy = metric.compute()\n",
        "print(f\"Accuracy on all data: {accuracy}\")\n",
        "\n",
        "# Reset metric for the next epoch\n",
        "metric.reset()\n",
        "plot_errors(model, dataloader)"
      ],
      "metadata": {
        "id": "SdDLTCMvyL2A"
      },
      "execution_count": null,
      "outputs": []
    },
    {
      "cell_type": "code",
      "source": [
        "model = nn.Sequential(\n",
        "    nn.Linear(8, 6),\n",
        "    nn.Linear(6, 4),\n",
        "    nn.Dropout(p=0.5))\n",
        "\n",
        "model.train()\n",
        "output_train = model(features)\n",
        "\n",
        "# Forward pass in evaluation mode (Dropout disabled)\n",
        "model.eval()\n",
        "output_eval = model(features)\n",
        "\n",
        "# Print results\n",
        "print(\"Output in train mode:\", output_train)\n",
        "print(\"Output in eval mode:\", output_eval)"
      ],
      "metadata": {
        "id": "5XOfrNOEyw7g"
      },
      "execution_count": null,
      "outputs": []
    },
    {
      "cell_type": "code",
      "source": [
        "values = []\n",
        "for idx in range(10):\n",
        "    # Randomly sample a learning rate factor between 2 and 4\n",
        "    factor = np.random.uniform(2,4)\n",
        "    lr = 10 ** -factor\n",
        "\n",
        "    # Randomly select a momentum between 0.85 and 0.99\n",
        "    momentum = np.random.uniform(.85,.99)\n",
        "\n",
        "    values.append((lr, momentum))\n",
        "\n",
        "plot_hyperparameter_search(values)"
      ],
      "metadata": {
        "id": "kNpZMckO70Uf"
      },
      "execution_count": null,
      "outputs": []
    }
  ]
}