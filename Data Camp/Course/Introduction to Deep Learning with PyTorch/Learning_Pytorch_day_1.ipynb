{
  "nbformat": 4,
  "nbformat_minor": 0,
  "metadata": {
    "colab": {
      "provenance": []
    },
    "kernelspec": {
      "name": "python3",
      "display_name": "Python 3"
    },
    "language_info": {
      "name": "python"
    }
  },
  "cells": [
    {
      "cell_type": "code",
      "execution_count": null,
      "metadata": {
        "id": "bd8rxX8nRIXw"
      },
      "outputs": [],
      "source": [
        "import torch"
      ]
    },
    {
      "cell_type": "code",
      "source": [
        "temp=[[2,3,4,5,6,7,8],[2,3,6,8,5,7,2]]\n",
        "temp1=torch.tensor(temp)\n",
        "print(temp1)"
      ],
      "metadata": {
        "colab": {
          "base_uri": "https://localhost:8080/"
        },
        "id": "PDiu8zw8RNt3",
        "outputId": "8a0d1008-f947-4dd6-ca22-eefb1b84eacf"
      },
      "execution_count": null,
      "outputs": [
        {
          "output_type": "stream",
          "name": "stdout",
          "text": [
            "tensor([[2, 3, 4, 5, 6, 7, 8],\n",
            "        [2, 3, 6, 8, 5, 7, 2]])\n"
          ]
        }
      ]
    },
    {
      "cell_type": "code",
      "source": [
        "queue=[[2,3,5,8,5,7,6],[5,7,4,2,43,5,6]]\n",
        "temp2=torch.tensor(queue)\n",
        "print(queue)\n"
      ],
      "metadata": {
        "colab": {
          "base_uri": "https://localhost:8080/"
        },
        "id": "bKPRPLx6U9Po",
        "outputId": "83052b22-a0f3-4da2-c7e7-93ebb40a794d"
      },
      "execution_count": null,
      "outputs": [
        {
          "output_type": "stream",
          "name": "stdout",
          "text": [
            "[[2, 3, 5, 8, 5, 7, 6], [5, 7, 4, 2, 43, 5, 6]]\n"
          ]
        }
      ]
    },
    {
      "cell_type": "code",
      "source": [
        "\n",
        "print(temp1+temp2)\n",
        "print(temp1-temp2)\n",
        "print(temp1*temp2)\n",
        "print(temp1/temp2)"
      ],
      "metadata": {
        "colab": {
          "base_uri": "https://localhost:8080/"
        },
        "id": "Lmi67UwcVPqQ",
        "outputId": "9b9f7b15-e9e7-4f78-9e73-99edd318563f"
      },
      "execution_count": null,
      "outputs": [
        {
          "output_type": "stream",
          "name": "stdout",
          "text": [
            "tensor([[ 4,  6,  9, 13, 11, 14, 14],\n",
            "        [ 7, 10, 10, 10, 48, 12,  8]])\n",
            "tensor([[  0,   0,  -1,  -3,   1,   0,   2],\n",
            "        [ -3,  -4,   2,   6, -38,   2,  -4]])\n",
            "tensor([[  4,   9,  20,  40,  30,  49,  48],\n",
            "        [ 10,  21,  24,  16, 215,  35,  12]])\n",
            "tensor([[1.0000, 1.0000, 0.8000, 0.6250, 1.2000, 1.0000, 1.3333],\n",
            "        [0.4000, 0.4286, 1.5000, 4.0000, 0.1163, 1.4000, 0.3333]])\n"
          ]
        }
      ]
    },
    {
      "cell_type": "code",
      "source": [
        "print(temp1.shape)\n",
        "print(temp2.shape)\n",
        "print(temp1.dtype)\n",
        "print(temp2.dtype)\n",
        "x=temp1+temp2\n",
        "print(x)\n",
        "print(x.shape)\n",
        "print(x.dtype)"
      ],
      "metadata": {
        "colab": {
          "base_uri": "https://localhost:8080/"
        },
        "id": "P5AxoRZmVZ1A",
        "outputId": "ce2e5109-f5d6-4317-da49-c7857097c1f4"
      },
      "execution_count": null,
      "outputs": [
        {
          "output_type": "stream",
          "name": "stdout",
          "text": [
            "torch.Size([2, 7])\n",
            "torch.Size([2, 7])\n",
            "torch.int64\n",
            "torch.int64\n",
            "tensor([[ 4,  6,  9, 13, 11, 14, 14],\n",
            "        [ 7, 10, 10, 10, 48, 12,  8]])\n",
            "torch.Size([2, 7])\n",
            "torch.int64\n"
          ]
        }
      ]
    },
    {
      "cell_type": "code",
      "source": [
        "import torch.nn as nn"
      ],
      "metadata": {
        "id": "ns7OcOgMRNwH"
      },
      "execution_count": null,
      "outputs": []
    },
    {
      "cell_type": "code",
      "source": [
        "inp=torch.tensor([[1.2,2.2,3.2],[4.3,5.3,6.3],[7.8,8.8,9.8]])\n",
        "print(inp)\n",
        "print(inp.shape)\n",
        "print(inp.dtype)"
      ],
      "metadata": {
        "colab": {
          "base_uri": "https://localhost:8080/"
        },
        "id": "ZcTS84cCRNx4",
        "outputId": "8bdeed1e-fbe7-428f-d43a-0ea31d9a5ad1"
      },
      "execution_count": null,
      "outputs": [
        {
          "output_type": "stream",
          "name": "stdout",
          "text": [
            "tensor([[1.2000, 2.2000, 3.2000],\n",
            "        [4.3000, 5.3000, 6.3000],\n",
            "        [7.8000, 8.8000, 9.8000]])\n",
            "torch.Size([3, 3])\n",
            "torch.float32\n"
          ]
        }
      ]
    },
    {
      "cell_type": "code",
      "source": [
        "linear_layer=nn.Linear(in_features=3,out_features=2)\n"
      ],
      "metadata": {
        "id": "ntp5dPv5RNz-"
      },
      "execution_count": null,
      "outputs": []
    },
    {
      "cell_type": "code",
      "source": [
        "output=linear_layer(inp)\n",
        "print(output)"
      ],
      "metadata": {
        "colab": {
          "base_uri": "https://localhost:8080/"
        },
        "id": "Eqj4HEFrRN2G",
        "outputId": "bcfa3cf1-1cca-4531-89cd-a9867c53151d"
      },
      "execution_count": null,
      "outputs": [
        {
          "output_type": "stream",
          "name": "stdout",
          "text": [
            "tensor([[ 0.4020, -2.4564],\n",
            "        [ 0.8860, -4.4781],\n",
            "        [ 1.4324, -6.7608]], grad_fn=<AddmmBackward0>)\n"
          ]
        }
      ]
    },
    {
      "cell_type": "code",
      "source": [
        "model=nn.Sequential(\n",
        "    nn.Linear(3,9),\n",
        "    nn.Linear(9,7),\n",
        "    nn.Linear(7,20),\n",
        "    nn.Linear(20,5)\n",
        ")"
      ],
      "metadata": {
        "id": "Qc5ECO5cRN4P"
      },
      "execution_count": null,
      "outputs": []
    },
    {
      "cell_type": "code",
      "source": [
        "output=model(inp)\n",
        "print(output)\n"
      ],
      "metadata": {
        "colab": {
          "base_uri": "https://localhost:8080/"
        },
        "id": "X3TvOA1SRN6e",
        "outputId": "4b87e600-c8fa-4662-ea5a-e2dcd8dd15c4"
      },
      "execution_count": null,
      "outputs": [
        {
          "output_type": "stream",
          "name": "stdout",
          "text": [
            "tensor([[-0.0463,  0.1956,  0.3651,  0.0264,  0.2152],\n",
            "        [-0.0286, -0.0279,  0.8395,  0.5626,  0.6022],\n",
            "        [-0.0085, -0.2802,  1.3750,  1.1680,  1.0391]],\n",
            "       grad_fn=<AddmmBackward0>)\n"
          ]
        }
      ]
    },
    {
      "cell_type": "code",
      "source": [
        "inp=torch.tensor([[1.2,2.2,3.2],[4.3,5.3,6.3],[7.8,8.8,9.8]])\n",
        "\n",
        "sigmoid=nn.Sigmoid()\n",
        "output=sigmoid(inp)\n",
        "print(output)"
      ],
      "metadata": {
        "colab": {
          "base_uri": "https://localhost:8080/"
        },
        "id": "YR3Zz-rqRN82",
        "outputId": "b415249c-d08d-4330-d846-cbe3b5794f1b"
      },
      "execution_count": null,
      "outputs": [
        {
          "output_type": "stream",
          "name": "stdout",
          "text": [
            "tensor([[0.7685, 0.9002, 0.9608],\n",
            "        [0.9866, 0.9950, 0.9982],\n",
            "        [0.9996, 0.9998, 0.9999]])\n"
          ]
        }
      ]
    },
    {
      "cell_type": "code",
      "source": [
        "inp=torch.tensor([[1.2,2.2,3.2],[4.3,5.3,6.3],[7.8,8.8,9.8]])\n",
        "\n",
        "model=nn.Sequential(\n",
        "    nn.Linear(3,9),\n",
        "    nn.Linear(9,7),\n",
        "    nn.Linear(7,20),\n",
        "    nn.Linear(20,5),\n",
        "    nn.Sigmoid()\n",
        ")\n",
        "output=model(inp)\n",
        "print(output)"
      ],
      "metadata": {
        "colab": {
          "base_uri": "https://localhost:8080/"
        },
        "id": "OjrfjXG8RN-_",
        "outputId": "bdb4a8c7-5b73-4d20-b9de-4a68f4537af8"
      },
      "execution_count": null,
      "outputs": [
        {
          "output_type": "stream",
          "name": "stdout",
          "text": [
            "tensor([[0.5195, 0.4818, 0.4493, 0.4765, 0.5810],\n",
            "        [0.5375, 0.4594, 0.4463, 0.4962, 0.6112],\n",
            "        [0.5577, 0.4343, 0.4430, 0.5184, 0.6444]], grad_fn=<SigmoidBackward0>)\n"
          ]
        }
      ]
    },
    {
      "cell_type": "code",
      "source": [
        "inp=torch.tensor([[1.2,2.2,3.2],[4.3,5.3,6.3],[7.8,8.8,9.8]])\n",
        "probabilities= nn.Softmax(dim=-1)\n",
        "output=probabilities(inp)\n",
        "print(output)"
      ],
      "metadata": {
        "colab": {
          "base_uri": "https://localhost:8080/"
        },
        "id": "NxuvpVsIROCC",
        "outputId": "ef96467d-71c1-4b45-892c-b43395760594"
      },
      "execution_count": null,
      "outputs": [
        {
          "output_type": "stream",
          "name": "stdout",
          "text": [
            "tensor([[0.0900, 0.2447, 0.6652],\n",
            "        [0.0900, 0.2447, 0.6652],\n",
            "        [0.0900, 0.2447, 0.6652]])\n"
          ]
        }
      ]
    },
    {
      "cell_type": "code",
      "source": [
        "inp=torch.tensor([[1.2,2.2,3.2],[4.3,5.3,6.3],[7.8,8.8,9.8]])\n",
        "\n",
        "model=nn.Sequential(\n",
        "    nn.Linear(3,9),\n",
        "    nn.Linear(9,7),\n",
        "    nn.Linear(7,20),\n",
        "    nn.Linear(20,5),\n",
        "    nn.Softmax(dim=-1)\n",
        ")\n",
        "output=model(inp)\n",
        "print(output)"
      ],
      "metadata": {
        "colab": {
          "base_uri": "https://localhost:8080/"
        },
        "id": "nNCeSaQfegpT",
        "outputId": "a5ad2aae-47c2-4c7f-9491-3f60cc9adf70"
      },
      "execution_count": null,
      "outputs": [
        {
          "output_type": "stream",
          "name": "stdout",
          "text": [
            "tensor([[0.1221, 0.1915, 0.3903, 0.1475, 0.1486],\n",
            "        [0.0812, 0.1971, 0.5278, 0.0955, 0.0984],\n",
            "        [0.0458, 0.1822, 0.6643, 0.0524, 0.0553]], grad_fn=<SoftmaxBackward0>)\n"
          ]
        }
      ]
    },
    {
      "cell_type": "code",
      "source": [
        "import torch.nn.functional as F"
      ],
      "metadata": {
        "id": "IYHHNB3lekkC"
      },
      "execution_count": null,
      "outputs": []
    },
    {
      "cell_type": "code",
      "source": [
        "print(F.one_hot(torch.tensor(0),num_classes=5))\n",
        "print(F.one_hot(torch.tensor(0),num_classes=5).shape)"
      ],
      "metadata": {
        "colab": {
          "base_uri": "https://localhost:8080/"
        },
        "id": "iWUOFSrJrnvc",
        "outputId": "4b85c140-8eda-4ba2-e44e-b339a5edce19"
      },
      "execution_count": null,
      "outputs": [
        {
          "output_type": "stream",
          "name": "stdout",
          "text": [
            "tensor([1, 0, 0, 0, 0])\n",
            "torch.Size([5])\n"
          ]
        }
      ]
    }
  ]
}